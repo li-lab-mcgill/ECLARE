{
 "cells": [
  {
   "cell_type": "markdown",
   "metadata": {},
   "source": [
    "# Run ECLARE on sample paired data"
   ]
  },
  {
   "cell_type": "markdown",
   "metadata": {},
   "source": [
    "Import environment variables from YAML file"
   ]
  },
  {
   "cell_type": "code",
   "execution_count": null,
   "metadata": {},
   "outputs": [],
   "source": [
    "import os\n",
    "from config.export_env_variables import export_env_variables\n",
    "\n",
    "export_env_variables(config_path='config')\n"
   ]
  },
  {
   "cell_type": "code",
   "execution_count": null,
   "metadata": {},
   "outputs": [],
   "source": [
    "# Go to DATAPATH\n",
    "os.chdir(os.environ[\"DATAPATH\"])\n",
    "DATAPATH_TMP = os.environ[\"DATAPATH\"]"
   ]
  },
  {
   "cell_type": "markdown",
   "metadata": {},
   "source": [
    "Download sample data from Zenodo (uncomment to run, only run once)"
   ]
  },
  {
   "cell_type": "code",
   "execution_count": null,
   "metadata": {},
   "outputs": [],
   "source": [
    "'''\n",
    "# Download the data from the DOI link\n",
    "!wget https://zenodo.org/records/14799100/files/eclare_sample_zenodo.zip?download=1 -O eclare_data.zip\n",
    "\n",
    "# Unzip the downloaded data\n",
    "!unzip eclare_data.zip -d eclare_data\n",
    "!unzip eclare_data/eclare_sample_zenodo.zip  # takes about 15 minutes @ 5.67 Mb/s\n",
    "'''"
   ]
  },
  {
   "cell_type": "markdown",
   "metadata": {},
   "source": [
    "Overwrite the DATAPATH environment variable to the path of the downloaded data\n"
   ]
  },
  {
   "cell_type": "code",
   "execution_count": null,
   "metadata": {},
   "outputs": [],
   "source": [
    "os.environ[\"DATAPATH\"] = os.path.join(DATAPATH_TMP, \"eclare_data\", \"eclare_sample_zenodo\")\n",
    "# generally, os.environ[\"DATAPATH\"] = os.path.join(\"/path/to/sample/data\", \"eclare_sample_zenodo\")\n",
    "\n",
    "print(\"DATAPATH: \", os.environ[\"DATAPATH\"])"
   ]
  },
  {
   "cell_type": "markdown",
   "metadata": {},
   "source": [
    "### Step 1: train CLIP teacher models"
   ]
  },
  {
   "cell_type": "code",
   "execution_count": null,
   "metadata": {},
   "outputs": [],
   "source": [
    "# Got to ECLARE_ROOT\n",
    "os.chdir(os.environ[\"ECLARE_ROOT\"])"
   ]
  },
  {
   "cell_type": "code",
   "execution_count": null,
   "metadata": {},
   "outputs": [],
   "source": [
    "# Run clip_samples.sh\n",
    "\n",
    "os.environ['N_EPOCHS'] = '5'\n",
    "\n",
    "!${ECLARE_ROOT}/scripts/clip_scripts/clip_samples.sh $N_EPOCHS"
   ]
  },
  {
   "cell_type": "markdown",
   "metadata": {},
   "source": [
    "### Step 2: perform multi-teacher distillation (ECLARE)"
   ]
  },
  {
   "cell_type": "code",
   "execution_count": null,
   "metadata": {},
   "outputs": [],
   "source": [
    "# Go to ECLARE_ROOT (in case not already there)\n",
    "os.chdir(os.environ[\"ECLARE_ROOT\"])"
   ]
  },
  {
   "cell_type": "markdown",
   "metadata": {},
   "source": [
    "Identify the Job ID related to the CLIP teacher models. Should be shown in the first line output by clip_samples.sh, e.g.:<br>\n",
    "\n",
    "Job ID: clip_03173230\n",
    "\n",
    "Can also run code below to identify most common directory in OUTPATH:\n"
   ]
  },
  {
   "cell_type": "code",
   "execution_count": null,
   "metadata": {},
   "outputs": [],
   "source": [
    "# Get most recent directory in OUTPATH that starts with \"clip_\"\n",
    "from glob import glob\n",
    "clip_dirs = glob(os.path.join(os.environ[\"OUTPATH\"], \"clip_*\"))\n",
    "if clip_dirs:\n",
    "    latest_clip_dir = max(clip_dirs, key=os.path.getmtime)\n",
    "    clip_job_id = os.path.basename(latest_clip_dir)\n",
    "    print(f\"Most recent CLIP job directory, assigned to clip_job_id: {clip_job_id}\")\n",
    "else:\n",
    "    print(\"No CLIP job directories found in OUTPATH\")\n"
   ]
  },
  {
   "cell_type": "markdown",
   "metadata": {},
   "source": [
    "Run ECLARE"
   ]
  },
  {
   "cell_type": "code",
   "execution_count": null,
   "metadata": {},
   "outputs": [],
   "source": [
    "# Run eclare_samples.sh\n",
    "\n",
    "os.environ['N_EPOCHS'] = '5'\n",
    "os.environ['CLIP_JOB_ID'] = clip_job_id.split('_')[1]  # only keep digits\n",
    "\n",
    "!${ECLARE_ROOT}/scripts/eclare_scripts/eclare_samples.sh $N_EPOCHS $CLIP_JOB_ID"
   ]
  },
  {
   "cell_type": "markdown",
   "metadata": {},
   "source": [
    "Get most recent ECLARE job ID"
   ]
  },
  {
   "cell_type": "code",
   "execution_count": null,
   "metadata": {},
   "outputs": [],
   "source": [
    "# Get most recent directory in OUTPATH that starts with \"eclare_\"\n",
    "from glob import glob\n",
    "eclare_dirs = glob(os.path.join(os.environ[\"OUTPATH\"], \"eclare_*\"))\n",
    "if eclare_dirs:\n",
    "    latest_eclare_dir = max(eclare_dirs, key=os.path.getmtime)\n",
    "    eclare_job_id = os.path.basename(latest_eclare_dir)\n",
    "\n",
    "print(f\"Most recent ECLARE job directory, assigned to eclare_job_id: {eclare_job_id}\")"
   ]
  },
  {
   "cell_type": "markdown",
   "metadata": {},
   "source": [
    "### Assess model performance"
   ]
  },
  {
   "cell_type": "markdown",
   "metadata": {},
   "source": [
    "Define functions for importing data and metrics"
   ]
  },
  {
   "cell_type": "code",
   "execution_count": null,
   "metadata": {},
   "outputs": [],
   "source": [
    "import os\n",
    "import matplotlib.pyplot as plt\n",
    "\n",
    "from eclare.post_hoc_utils import get_metrics\n",
    "from eclare.models import load_CLIP_and_ECLARE_model"
   ]
  },
  {
   "cell_type": "code",
   "execution_count": null,
   "metadata": {},
   "outputs": [],
   "source": [
    "# Get metrics\n",
    "clip_job_id_split = clip_job_id.split('_')[1]\n",
    "eclare_job_id_split = eclare_job_id.split('_')[1]\n",
    "\n",
    "source_df_clip, target_df_clip, source_only_df_clip = get_metrics('clip', clip_job_id_split)   # may need to rename 'triplet_align_<job_id>' by 'clip_<job_id>'\n",
    "target_df_multiclip = get_metrics('eclare', eclare_job_id_split, target_only=True) # may need to rename 'multisource_align_<job_id>' by 'multiclip_<job_id>'\n"
   ]
  },
  {
   "cell_type": "code",
   "execution_count": null,
   "metadata": {},
   "outputs": [],
   "source": [
    "# Load teacher CLIP and student ECLARE models\n",
    "best_multiclip_idx= str(target_df_multiclip['ilisis'].droplevel(0).argmax())\n",
    "paths_root = os.path.join(os.environ['OUTPATH'], eclare_job_id)\n",
    "student_model_path = os.path.join(paths_root, 'PFC_Zhu', best_multiclip_idx, 'student_model.pt')\n",
    "\n",
    "teacher_models, student_model = load_CLIP_and_ECLARE_model(student_model_path, best_multiclip_idx)"
   ]
  },
  {
   "cell_type": "code",
   "execution_count": null,
   "metadata": {},
   "outputs": [],
   "source": [
    "# Get nuclei and latents\n",
    "from eclare.setup_utils import pfc_zhu_setup\n",
    "from eclare.post_hoc_utils import get_latents\n",
    "\n",
    "# Teacher data\n",
    "teacher_rnas, teacher_atacs, teacher_rna_latents_dict, teacher_atac_latents_dict = {}, {}, {}, {}\n",
    "\n",
    "for source_dataset, teacher_model in teacher_models.items():\n",
    "    \n",
    "    teacher_rna, teacher_atac, cell_group, _, _, _, _ = pfc_zhu_setup(teacher_model.args, pretrain=None, return_type='data')\n",
    "    teacher_rnas[source_dataset] = teacher_rna\n",
    "    teacher_atacs[source_dataset] = teacher_atac\n",
    "\n",
    "    teacher_rna_latents, teacher_atac_latents = get_latents(teacher_model, teacher_rna, teacher_atac, return_tensor=True)\n",
    "    teacher_rna_latents_dict[source_dataset] = teacher_rna_latents\n",
    "    teacher_atac_latents_dict[source_dataset] = teacher_atac_latents\n",
    "\n",
    "# Student data\n",
    "student_rna, student_atac, cell_group, _, _, _, _ = pfc_zhu_setup(student_model.args, pretrain=None, return_type='data')\n",
    "student_rna_latents, student_atac_latents = get_latents(student_model, student_rna, student_atac, return_tensor=True)"
   ]
  },
  {
   "cell_type": "code",
   "execution_count": null,
   "metadata": {},
   "outputs": [],
   "source": [
    "# Plot UMAP embeddings for teachers and student\n",
    "from eclare.post_hoc_utils import plot_umap_embeddings\n",
    "from eclare.post_hoc_utils import create_celltype_palette\n",
    "\n",
    "color_map_ct = create_celltype_palette(teacher_rna.obs[cell_group].values, teacher_atac.obs[cell_group].values, plot_color_palette=False)\n",
    "\n",
    "# teachers\n",
    "for source_dataset in teacher_rnas.keys():\n",
    "    plot_umap_embeddings(teacher_rna_latents_dict[source_dataset], teacher_atac_latents_dict[source_dataset], teacher_rnas[source_dataset].obs[cell_group].values, teacher_atacs[source_dataset].obs[cell_group].values, None, None, color_map_ct)\n",
    "    plt.suptitle(f\"PFC_Zhu embeddings using teacher model (source: {source_dataset})\"); plt.tight_layout(); plt.show()\n",
    "\n",
    "# student\n",
    "plot_umap_embeddings(student_rna_latents, student_atac_latents, student_rna.obs[cell_group].values, student_atac.obs[cell_group].values, None, None, color_map_ct)\n",
    "plt.suptitle(f\"PFC_Zhu embeddings using student model\"); plt.tight_layout(); plt.show()"
   ]
  }
 ],
 "metadata": {
  "kernelspec": {
   "display_name": "eclare_env",
   "language": "python",
   "name": "python3"
  },
  "language_info": {
   "codemirror_mode": {
    "name": "ipython",
    "version": 3
   },
   "file_extension": ".py",
   "mimetype": "text/x-python",
   "name": "python",
   "nbconvert_exporter": "python",
   "pygments_lexer": "ipython3"
  }
 },
 "nbformat": 4,
 "nbformat_minor": 2
}
