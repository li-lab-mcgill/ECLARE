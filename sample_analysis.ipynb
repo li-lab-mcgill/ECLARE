{
 "cells": [
  {
   "cell_type": "markdown",
   "metadata": {},
   "source": [
    "# Run ECLARE on sample paired data"
   ]
  },
  {
   "cell_type": "markdown",
   "metadata": {},
   "source": [
    "Trigger src/eclare/\\_\\_init\\_\\_.py to set environment variables"
   ]
  },
  {
   "cell_type": "code",
   "execution_count": 20,
   "metadata": {},
   "outputs": [
    {
     "name": "stdout",
     "output_type": "stream",
     "text": [
      "ECLARE_ROOT: /home/mcb/users/dmannk/scMultiCLIP/ECLARE\n",
      "OUTPATH: /home/mcb/users/dmannk/scMultiCLIP/outputs\n",
      "DATAPATH: /home/mcb/users/dmannk/scMultiCLIP/data\n"
     ]
    }
   ],
   "source": [
    "#!source config/export_env_variables.sh config/config.yaml\n",
    "import os\n",
    "# Ensure that the environment variables set by the script are accessible in this notebook\n",
    "import subprocess\n",
    "\n",
    "# Run the export_env_variables.sh script and capture the output\n",
    "result = subprocess.run(['bash', '-c', 'config/export_env_variables.sh config/config.yaml'], capture_output=True, text=True)\n",
    "\n",
    "# Parse the output and set the environment variables in the current Python environment\n",
    "for line in result.stdout.splitlines()[2:]:\n",
    "    key, value = line.split('=', 1)\n",
    "    os.environ[key] = value\n",
    "\n",
    "# Verify that the environment variables are set\n",
    "print(\"ECLARE_ROOT:\", os.environ.get(\"ECLARE_ROOT\"))\n",
    "print(\"OUTPATH:\", os.environ.get(\"OUTPATH\"))\n",
    "print(\"DATAPATH:\", os.environ.get(\"DATAPATH\"))\n"
   ]
  },
  {
   "cell_type": "code",
   "execution_count": 21,
   "metadata": {},
   "outputs": [],
   "source": [
    "# Go to DATAPATH\n",
    "os.chdir(os.environ[\"DATAPATH\"])\n",
    "DATAPATH_TMP = os.environ[\"DATAPATH\"]"
   ]
  },
  {
   "cell_type": "markdown",
   "metadata": {},
   "source": [
    "Download sample data from Zenodo (only run once)"
   ]
  },
  {
   "cell_type": "code",
   "execution_count": null,
   "metadata": {},
   "outputs": [],
   "source": [
    "'''\n",
    "# Download the data from the DOI link\n",
    "!wget https://zenodo.org/records/14799100/files/eclare_sample_zenodo.zip?download=1 -O eclare_data.zip\n",
    "\n",
    "# Unzip the downloaded data\n",
    "!unzip eclare_data.zip -d eclare_data\n",
    "!unzip eclare_data/eclare_sample_zenodo.zip  # takes about 15 minutes @ 5.67 Mb/s\n",
    "'''"
   ]
  },
  {
   "cell_type": "markdown",
   "metadata": {},
   "source": [
    "Overwrite the DATAPATH environment variable to the path of the downloaded data\n"
   ]
  },
  {
   "cell_type": "code",
   "execution_count": 22,
   "metadata": {},
   "outputs": [
    {
     "name": "stdout",
     "output_type": "stream",
     "text": [
      "DATAPATH:  /home/mcb/users/dmannk/scMultiCLIP/data/eclare_data/eclare_sample_zenodo\n"
     ]
    }
   ],
   "source": [
    "os.environ[\"DATAPATH\"] = os.path.join(DATAPATH_TMP, \"eclare_data\", \"eclare_sample_zenodo\")\n",
    "# generally, os.environ[\"DATAPATH\"] = os.path.join(\"/path/to/sample/data\", \"eclare_sample_zenodo\")\n",
    "\n",
    "print(\"DATAPATH: \", os.environ[\"DATAPATH\"])"
   ]
  },
  {
   "cell_type": "markdown",
   "metadata": {},
   "source": [
    "### Step 1: train CLIP teacher models"
   ]
  },
  {
   "cell_type": "code",
   "execution_count": 4,
   "metadata": {},
   "outputs": [],
   "source": [
    "# Got to ECLARE_ROOT\n",
    "os.chdir(os.environ[\"ECLARE_ROOT\"])"
   ]
  },
  {
   "cell_type": "code",
   "execution_count": null,
   "metadata": {},
   "outputs": [],
   "source": [
    "# Run clip_run.py\n",
    "os.environ['N_EPOCHS'] = '1'\n",
    "!${ECLARE_ROOT}/scripts/clip_scripts/clip_samples.sh $N_EPOCHS"
   ]
  },
  {
   "cell_type": "markdown",
   "metadata": {},
   "source": [
    "### Step 2: perform multi-teacher distillation (ECLARE)"
   ]
  },
  {
   "cell_type": "code",
   "execution_count": 8,
   "metadata": {},
   "outputs": [],
   "source": [
    "# Got to ECLARE_ROOT (in case not already there)\n",
    "os.chdir(os.environ[\"ECLARE_ROOT\"])"
   ]
  },
  {
   "cell_type": "markdown",
   "metadata": {},
   "source": [
    "Identify the Job ID related to the CLIP teacher models. Should be shown in the first line output by clip_samples.sh, e.g.:<br>\n",
    "\n",
    "Job ID: clip_03173230\n"
   ]
  },
  {
   "cell_type": "markdown",
   "metadata": {},
   "source": [
    "Can also run code below to identify most common directory in OUTPATH:"
   ]
  },
  {
   "cell_type": "code",
   "execution_count": 23,
   "metadata": {},
   "outputs": [
    {
     "name": "stdout",
     "output_type": "stream",
     "text": [
      "Most recent CLIP job directory, assigned to clip_job_id: clip_03173230\n"
     ]
    }
   ],
   "source": [
    "# Get most recent directory in OUTPATH that starts with \"clip_\"\n",
    "from glob import glob\n",
    "clip_dirs = glob(os.path.join(os.environ[\"OUTPATH\"], \"clip_*\"))\n",
    "if clip_dirs:\n",
    "    latest_clip_dir = max(clip_dirs, key=os.path.getmtime)\n",
    "    clip_job_id = os.path.basename(latest_clip_dir)\n",
    "    print(f\"Most recent CLIP job directory, assigned to clip_job_id: {clip_job_id}\")\n",
    "else:\n",
    "    print(\"No CLIP job directories found in OUTPATH\")\n"
   ]
  },
  {
   "cell_type": "code",
   "execution_count": 27,
   "metadata": {},
   "outputs": [
    {
     "name": "stdout",
     "output_type": "stream",
     "text": [
      "Job ID: eclare_04165045\n",
      "Total epochs: 1\n",
      "CLIP job ID: 03173230\n",
      "=== Target dataset: PFC_Zhu ===\n",
      "=== Random state: 17772 ===\n",
      "/home/mcb/users/dmannk/.conda/envs/eclare_env/lib/python3.9/site-packages/umap/distances.py:1063: NumbaDeprecationWarning: \u001b[1mThe 'nopython' keyword argument was not supplied to the 'numba.jit' decorator. The implicit default value for this argument is currently False, but it will be changed to True in Numba 0.59.0. See https://numba.readthedocs.io/en/stable/reference/deprecation.html#deprecation-of-object-mode-fall-back-behaviour-when-using-jit for details.\u001b[0m\n",
      "  @numba.jit()\n",
      "/home/mcb/users/dmannk/.conda/envs/eclare_env/lib/python3.9/site-packages/umap/distances.py:1071: NumbaDeprecationWarning: \u001b[1mThe 'nopython' keyword argument was not supplied to the 'numba.jit' decorator. The implicit default value for this argument is currently False, but it will be changed to True in Numba 0.59.0. See https://numba.readthedocs.io/en/stable/reference/deprecation.html#deprecation-of-object-mode-fall-back-behaviour-when-using-jit for details.\u001b[0m\n",
      "  @numba.jit()\n",
      "/home/mcb/users/dmannk/.conda/envs/eclare_env/lib/python3.9/site-packages/umap/distances.py:1086: NumbaDeprecationWarning: \u001b[1mThe 'nopython' keyword argument was not supplied to the 'numba.jit' decorator. The implicit default value for this argument is currently False, but it will be changed to True in Numba 0.59.0. See https://numba.readthedocs.io/en/stable/reference/deprecation.html#deprecation-of-object-mode-fall-back-behaviour-when-using-jit for details.\u001b[0m\n",
      "  @numba.jit()\n",
      "/home/mcb/users/dmannk/.conda/envs/eclare_env/lib/python3.9/site-packages/umap/umap_.py:660: NumbaDeprecationWarning: \u001b[1mThe 'nopython' keyword argument was not supplied to the 'numba.jit' decorator. The implicit default value for this argument is currently False, but it will be changed to True in Numba 0.59.0. See https://numba.readthedocs.io/en/stable/reference/deprecation.html#deprecation-of-object-mode-fall-back-behaviour-when-using-jit for details.\u001b[0m\n",
      "  @numba.jit()\n",
      "CUDA available\n",
      "Allocated CPUs: 1\n",
      "Extracting data\n",
      "model checkpoint\n",
      "Number of peaks and genes remaining: 55284 peaks & 6816 genes\n",
      "model checkpoint\n",
      "/home/mcb/users/dmannk/scMultiCLIP/outputs/clip_03173230/PFC_Zhu/DLPFC_Ma/0/model.pt\n",
      "model checkpoint\n",
      "DLPFC_Ma\n",
      "Number of peaks and genes remaining: 57263 peaks & 6920 genes\n",
      "/home/mcb/users/dmannk/scMultiCLIP/outputs/clip_03173230/PFC_Zhu/DLPFC_Anderson/0/model.pt\n",
      "model checkpoint\n",
      "DLPFC_Anderson\n",
      "Number of peaks and genes remaining: 50937 peaks & 7189 genes\n",
      "Iterating over epochs, batches & datasets\n",
      "Unable to initialize backend 'cuda': module 'jaxlib.xla_extension' has no attribute 'GpuAllocatorConfig'\n",
      "Unable to initialize backend 'rocm': module 'jaxlib.xla_extension' has no attribute 'GpuAllocatorConfig'\n",
      "Unable to initialize backend 'tpu': INVALID_ARGUMENT: TpuPlatform is not available.\n",
      "No GPU/TPU found, falling back to CPU. (Set TF_CPP_MIN_LOG_LEVEL=0 and rerun for more info.)\n",
      "Align loss scale: 0.04273523762822151\n",
      "Epoch 1: 100%|██████████| 25/25 [00:45<00:00,  1.83s/it]\n",
      "Training log saved to /home/mcb/users/dmannk/scMultiCLIP/outputs/eclare_04165045/PFC_Zhu/0/training_log.csv\n",
      "done!\n",
      "Job complete.\n"
     ]
    }
   ],
   "source": [
    "# Run eclare_run.py\n",
    "os.environ['N_EPOCHS'] = '1'\n",
    "os.environ['CLIP_JOB_ID'] = clip_job_id.split('_')[1]  # only keep digits\n",
    "!${ECLARE_ROOT}/scripts/eclare_scripts/eclare_samples.sh $N_EPOCHS $CLIP_JOB_ID"
   ]
  },
  {
   "cell_type": "markdown",
   "metadata": {},
   "source": []
  }
 ],
 "metadata": {
  "kernelspec": {
   "display_name": "eclare_env",
   "language": "python",
   "name": "python3"
  },
  "language_info": {
   "codemirror_mode": {
    "name": "ipython",
    "version": 3
   },
   "file_extension": ".py",
   "mimetype": "text/x-python",
   "name": "python",
   "nbconvert_exporter": "python",
   "pygments_lexer": "ipython3",
   "version": "3.9.6"
  }
 },
 "nbformat": 4,
 "nbformat_minor": 2
}
